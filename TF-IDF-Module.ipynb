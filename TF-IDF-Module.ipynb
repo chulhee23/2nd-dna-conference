{
 "cells": [
  {
   "cell_type": "code",
   "execution_count": 327,
   "metadata": {},
   "outputs": [],
   "source": [
    "import pandas as pd\n",
    "import numpy as np\n",
    "import re\n",
    "from konlpy.tag import Okt\n",
    "from sklearn.feature_extraction.text import TfidfVectorizer\n",
    "\n",
    "def okt_tokenizer(x):\n",
    "    return okt.morphs(x)\n",
    "def okt_tokenizer2(x):\n",
    "    return okt.nouns(x)\n",
    "\n",
    "\n",
    "from sklearn.metrics.pairwise import cosine_similarity\n",
    "from scipy import sparse"
   ]
  },
  {
   "cell_type": "markdown",
   "metadata": {},
   "source": [
    "# Data"
   ]
  },
  {
   "cell_type": "code",
   "execution_count": 376,
   "metadata": {},
   "outputs": [],
   "source": [
    "class tdf(object) :\n",
    "    \n",
    "    def __init__(self):\n",
    "        self.data=pd.read_csv(str(input('review 버전을 입력해주세요')))\n",
    "        \n",
    "    def get_matrix(self,by,min_df=0.15):\n",
    "        review = self.data\n",
    "        if by == 'lecture':\n",
    "            self.tf_data = review.groupby(['name','prof'])['review'].agg(lambda x : ''.join(x)).reset_index()\n",
    "        elif by == 'prof':\n",
    "            self.tf_data = review.groupby(['prof'])['review'].agg(lambda x : ''.join(x)).reset_index()\n",
    "        self.by=by\n",
    "        self.corpus = self.tf_data['review'].tolist()\n",
    "        \n",
    "        tok_corpus=[]\n",
    "        for doc in self.corpus:\n",
    "            tok_corpus.append(okt_tokenizer(doc))\n",
    "        self.tok_corpus = tok_corpus\n",
    "        \n",
    "        self.tfidf = TfidfVectorizer(tokenizer=okt_tokenizer, min_df=min_df).fit(self.corpus)\n",
    "        self.tfidf_matrix = self.tfidf.transform(self.corpus).toarray()\n",
    "        \n",
    "        self.tfidf_tag = TfidfVectorizer(tokenizer=okt_tokenizer2, min_df=(min_df-0.05)).fit(corpus)\n",
    "        self.tfidf_matrix_tag = self.tfidf_tag.transform(corpus).toarray()\n",
    "        \n",
    "        self.cos_mat=cosine_similarity(sparse.csr_matrix(self.tfidf_matrix))\n",
    "        \n",
    "    def get_similar(self):\n",
    "        tf_data = self.tf_data\n",
    "        cos_mat = self.cos_mat\n",
    "        \n",
    "        tfidf_tag = self.tfidf_tag\n",
    "        tfidf_matrix_tag = self.tfidf_matrix_tag\n",
    "        \n",
    "        tok_corpus = self.tok_corpus\n",
    "    \n",
    "        by = self.by\n",
    "        \n",
    "        if by == 'lecture':\n",
    "            name = input('강의 이름을 입력해 주세요')\n",
    "            prof = input('교수 이름을 입력해 주세요')\n",
    "            idx = tf_data.query('name == @name & prof == @prof').index[0]\n",
    "            \n",
    "        elif by =='prof' :\n",
    "            prof = input('교수 이름을 입력해 주세요')\n",
    "            idx = tf_data.query('prof == @prof').index[0]\n",
    "            \n",
    "        nouns = np.argsort(tfidf_matrix_tag[idx,:])[::-1][:5]\n",
    "        \n",
    "        hash_tags=[]\n",
    "        for hash_tag in nouns :\n",
    "            hash_tags.append(tfidf_tag.get_feature_names()[hash_tag])\n",
    "        print(hash_tags)\n",
    "        \n",
    "        in_ = tok_corpus[idx]\n",
    "        sim_idx = np.argsort(cos_mat[idx,:])[::-1][1:50]\n",
    "        jac_sim={}\n",
    "\n",
    "        for idxs in sim_idx:\n",
    "            compute_ = tok_corpus[idxs]\n",
    "            union = set(in_).union(set(compute_))\n",
    "            intersection = set(in_).intersection(set(compute_))\n",
    "            jac_sim[idxs] = len(intersection)/len(union)\n",
    "\n",
    "        out_idx = (pd.Series(jac_sim).sort_values(ascending=False)[:5]).index\n",
    "        display(tf_data.iloc[out_idx,:])\n",
    "\n",
    "            "
   ]
  },
  {
   "cell_type": "code",
   "execution_count": 379,
   "metadata": {},
   "outputs": [
    {
     "name": "stdout",
     "output_type": "stream",
     "text": [
      "review 버전을 입력해주세요review107.csv\n"
     ]
    }
   ],
   "source": [
    "tf = tdf()\n",
    "tf.get_matrix('prof')"
   ]
  },
  {
   "cell_type": "code",
   "execution_count": 390,
   "metadata": {
    "collapsed": true
   },
   "outputs": [
    {
     "name": "stdout",
     "output_type": "stream",
     "text": [
      "교수 이름을 입력해 주세요안성만\n",
      "['수업', '질문', '책', '출석', '자체']\n"
     ]
    },
    {
     "data": {
      "text/html": [
       "<div>\n",
       "<style scoped>\n",
       "    .dataframe tbody tr th:only-of-type {\n",
       "        vertical-align: middle;\n",
       "    }\n",
       "\n",
       "    .dataframe tbody tr th {\n",
       "        vertical-align: top;\n",
       "    }\n",
       "\n",
       "    .dataframe thead th {\n",
       "        text-align: right;\n",
       "    }\n",
       "</style>\n",
       "<table border=\"1\" class=\"dataframe\">\n",
       "  <thead>\n",
       "    <tr style=\"text-align: right;\">\n",
       "      <th></th>\n",
       "      <th>prof</th>\n",
       "      <th>review</th>\n",
       "    </tr>\n",
       "  </thead>\n",
       "  <tbody>\n",
       "    <tr>\n",
       "      <th>445</th>\n",
       "      <td>박미애</td>\n",
       "      <td>일단 수업때 출튀를 많이 했었습니다 그런데 정말 수업 열심히 듣고 나중에 열심히 공...</td>\n",
       "    </tr>\n",
       "    <tr>\n",
       "      <th>472</th>\n",
       "      <td>박용근</td>\n",
       "      <td>학생들이 편하게 수업에 임하고 시험을 볼 수 있도록 중요 핵심을 뽑아 정리해주심  ...</td>\n",
       "    </tr>\n",
       "    <tr>\n",
       "      <th>774</th>\n",
       "      <td>이국철</td>\n",
       "      <td>솔직히 이 교수님이랑 성향이 맞으면 굉장히 좋음  난 교수님이 수업과 관련없는 이야...</td>\n",
       "    </tr>\n",
       "    <tr>\n",
       "      <th>769</th>\n",
       "      <td>이경화</td>\n",
       "      <td>강의력은 손에 꼽을 정도로 잘하시고 수업 중에 딴 짓을 못해 다들 열심히 하는 분위...</td>\n",
       "    </tr>\n",
       "    <tr>\n",
       "      <th>938</th>\n",
       "      <td>이찬영</td>\n",
       "      <td>시험 전주에 시험문제 다 알려주세요  그러다보니 수업 잘 안듣는 분들도 계세요  그...</td>\n",
       "    </tr>\n",
       "  </tbody>\n",
       "</table>\n",
       "</div>"
      ],
      "text/plain": [
       "    prof                                             review\n",
       "445  박미애  일단 수업때 출튀를 많이 했었습니다 그런데 정말 수업 열심히 듣고 나중에 열심히 공...\n",
       "472  박용근  학생들이 편하게 수업에 임하고 시험을 볼 수 있도록 중요 핵심을 뽑아 정리해주심  ...\n",
       "774  이국철  솔직히 이 교수님이랑 성향이 맞으면 굉장히 좋음  난 교수님이 수업과 관련없는 이야...\n",
       "769  이경화  강의력은 손에 꼽을 정도로 잘하시고 수업 중에 딴 짓을 못해 다들 열심히 하는 분위...\n",
       "938  이찬영  시험 전주에 시험문제 다 알려주세요  그러다보니 수업 잘 안듣는 분들도 계세요  그..."
      ]
     },
     "metadata": {},
     "output_type": "display_data"
    }
   ],
   "source": [
    "tf.get_similar()"
   ]
  },
  {
   "cell_type": "markdown",
   "metadata": {},
   "source": [
    "## 1013 연습장"
   ]
  },
  {
   "cell_type": "code",
   "execution_count": 304,
   "metadata": {},
   "outputs": [],
   "source": [
    "review = pd.read_csv('review107.csv')"
   ]
  },
  {
   "cell_type": "code",
   "execution_count": 345,
   "metadata": {},
   "outputs": [],
   "source": [
    "tf_data = review.groupby(['name','prof'])['review'].agg(lambda x : ''.join(x)).reset_index()\n",
    "corpus = tf_data['review'].tolist()\n",
    "\n",
    "tfidf = TfidfVectorizer(tokenizer=okt_tokenizer2, min_df=0.1).fit(corpus)\n",
    "tfidf_matrix = tfidf.transform(corpus).toarray()"
   ]
  },
  {
   "cell_type": "code",
   "execution_count": 359,
   "metadata": {},
   "outputs": [],
   "source": [
    "nouns = np.argsort(tfidf_matrix[3139,:])[::-1][:5]"
   ]
  },
  {
   "cell_type": "code",
   "execution_count": 360,
   "metadata": {},
   "outputs": [
    {
     "name": "stdout",
     "output_type": "stream",
     "text": [
      "과제\n",
      "팀\n",
      "시험\n",
      "수업\n",
      "시간\n"
     ]
    }
   ],
   "source": [
    "for idx in nouns :\n",
    "    print(tfidf.get_feature_names()[idx])"
   ]
  },
  {
   "cell_type": "code",
   "execution_count": 391,
   "metadata": {},
   "outputs": [],
   "source": [
    "import pickle\n",
    "\n",
    "# save\n",
    "#with open('tf_moudle_class_1013.pickle', 'wb') as f:\n",
    "#    pickle.dump(tf, f, pickle.HIGHEST_PROTOCOL)\n",
    "\n",
    "# load\n",
    "with open('tf_moudle_class_1013.pickle', 'rb') as f:\n",
    "    tf = pickle.load(f)"
   ]
  },
  {
   "cell_type": "markdown",
   "metadata": {},
   "source": [
    "### 해야할 것 \n",
    "1) 단어중에 몇개만 고르자  \n",
    "2) 그걸로 시각화 하자 "
   ]
  }
 ],
 "metadata": {
  "kernelspec": {
   "display_name": "Python 3",
   "language": "python",
   "name": "python3"
  },
  "language_info": {
   "codemirror_mode": {
    "name": "ipython",
    "version": 3
   },
   "file_extension": ".py",
   "mimetype": "text/x-python",
   "name": "python",
   "nbconvert_exporter": "python",
   "pygments_lexer": "ipython3",
   "version": "3.7.3"
  }
 },
 "nbformat": 4,
 "nbformat_minor": 2
}
