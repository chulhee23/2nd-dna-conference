{
 "cells": [
  {
   "cell_type": "code",
   "execution_count": 5,
   "metadata": {},
   "outputs": [],
   "source": [
    "import pandas as pd\n",
    "from tqdm import tqdm_notebook"
   ]
  },
  {
   "cell_type": "code",
   "execution_count": 6,
   "metadata": {},
   "outputs": [],
   "source": [
    "def semester_split(text):\n",
    "    splited = re.sub('[-=+,#/\\?:^$.@*\\\"※~&%ㆍ!』\\\\‘|\\(\\)\\[\\]\\<\\>`\\'…》]', '', text).split(' ')\n",
    "    return splited"
   ]
  },
  {
   "cell_type": "code",
   "execution_count": 7,
   "metadata": {},
   "outputs": [],
   "source": [
    "def cleanText(readData):\n",
    "    text = re.sub('[^가-힣]',' ',readData)\n",
    "    return text"
   ]
  },
  {
   "cell_type": "code",
   "execution_count": 8,
   "metadata": {},
   "outputs": [
    {
     "name": "stdout",
     "output_type": "stream",
     "text": [
      "review 버전을 입력해주세요review107.csv\n"
     ]
    }
   ],
   "source": [
    "fname = input('review 버전을 입력해주세요')\n",
    "review = pd.read_csv(str(fname))\n",
    "review['review']=review['review'].apply(lambda x : cleanText(x))\n",
    "review.to_csv(str(fname),index=False)"
   ]
  },
  {
   "cell_type": "code",
   "execution_count": 9,
   "metadata": {},
   "outputs": [
    {
     "name": "stdout",
     "output_type": "stream",
     "text": [
      "lecture 버전을 입력해주세요lecture106.csv\n"
     ]
    }
   ],
   "source": [
    "fname = input('lecture 버전을 입력해주세요')\n",
    "lecture = pd.read_csv(str(fname))\n",
    "lecture['semester'] = lecture['semester'].apply(semester_split)\n",
    "lecture.to_csv(str(fname),index=False)"
   ]
  }
 ],
 "metadata": {
  "kernelspec": {
   "display_name": "Python 3",
   "language": "python",
   "name": "python3"
  },
  "language_info": {
   "codemirror_mode": {
    "name": "ipython",
    "version": 3
   },
   "file_extension": ".py",
   "mimetype": "text/x-python",
   "name": "python",
   "nbconvert_exporter": "python",
   "pygments_lexer": "ipython3",
   "version": "3.6.8"
  }
 },
 "nbformat": 4,
 "nbformat_minor": 2
}
