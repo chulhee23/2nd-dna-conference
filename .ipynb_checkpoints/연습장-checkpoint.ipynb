{
 "cells": [
  {
   "cell_type": "code",
   "execution_count": 2,
   "metadata": {},
   "outputs": [],
   "source": [
    "import pandas as pd\n",
    "import os"
   ]
  },
  {
   "cell_type": "code",
   "execution_count": 7,
   "metadata": {},
   "outputs": [
    {
     "data": {
      "text/plain": [
       "['.git',\n",
       " '.ipynb_checkpoints',\n",
       " 'chromedriver.exe',\n",
       " 'command.ipynb',\n",
       " 'detail107.csv',\n",
       " 'lecture106.csv',\n",
       " 'main.py',\n",
       " 'module (2).zip',\n",
       " 'module.7z',\n",
       " 'module.zip',\n",
       " 'review107.csv',\n",
       " 'sim_df1007.csv',\n",
       " 'sim_df1008.csv',\n",
       " 'Skip-Gram.ipynb',\n",
       " 'Skip-Gram.zip',\n",
       " 'TF-IDF(1004).zip',\n",
       " 'TF-IDF(1008).ipynb',\n",
       " 'Untitled.ipynb',\n",
       " '__pycache__',\n",
       " '전처리.ipynb']"
      ]
     },
     "execution_count": 7,
     "metadata": {},
     "output_type": "execute_result"
    }
   ],
   "source": [
    "os.listdir()"
   ]
  },
  {
   "cell_type": "code",
   "execution_count": 9,
   "metadata": {},
   "outputs": [],
   "source": [
    "lecture = pd.read_csv('lecture106.csv')\n",
    "detail = pd.read_csv('detail107.csv')\n",
    "review = pd.read_csv('review107.csv')"
   ]
  },
  {
   "cell_type": "code",
   "execution_count": 60,
   "metadata": {},
   "outputs": [
    {
     "name": "stdout",
     "output_type": "stream",
     "text": [
      "강의의 수 :  42738\n",
      "리뷰있는 강의수 :  3541\n",
      "리뷰의 수 :  28326\n"
     ]
    }
   ],
   "source": [
    "print('강의의 수 : ', len(lecture))\n",
    "print('리뷰있는 강의수 : ',len(lecture.query('score != 0')['link'].unique()))\n",
    "print('리뷰의 수 : ', len(review))"
   ]
  }
 ],
 "metadata": {
  "kernelspec": {
   "display_name": "Python 3",
   "language": "python",
   "name": "python3"
  },
  "language_info": {
   "codemirror_mode": {
    "name": "ipython",
    "version": 3
   },
   "file_extension": ".py",
   "mimetype": "text/x-python",
   "name": "python",
   "nbconvert_exporter": "python",
   "pygments_lexer": "ipython3",
   "version": "3.6.8"
  }
 },
 "nbformat": 4,
 "nbformat_minor": 2
}
