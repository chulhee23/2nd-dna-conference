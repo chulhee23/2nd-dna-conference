{
 "cells": [
  {
   "cell_type": "code",
   "execution_count": 1,
   "metadata": {},
   "outputs": [],
   "source": [
    "import pandas as pd\n",
    "import os"
   ]
  },
  {
   "cell_type": "code",
   "execution_count": 9,
   "metadata": {},
   "outputs": [],
   "source": [
    "from soynlp.tokenizer import RegexTokenizer, LTokenizer, MaxScoreTokenizer\n",
    "from gensim.models.doc2vec import Doc2Vec, TaggedDocument\n",
    "import pandas as pd\n",
    "import numpy as np\n",
    "import re\n",
    "from konlpy.tag import Okt\n",
    "from sklearn.feature_extraction.text import TfidfVectorizer\n",
    "def okt_tokenizer(x):\n",
    "    return Okt.morphs(x)\n",
    "from sklearn.metrics.pairwise import cosine_similarity\n",
    "from scipy import sparse"
   ]
  },
  {
   "cell_type": "code",
   "execution_count": 4,
   "metadata": {},
   "outputs": [],
   "source": [
    "lecture = pd.read_csv('lecture106.csv')\n",
    "detail = pd.read_csv('detail107.csv')\n",
    "review = pd.read_csv('review107.csv')"
   ]
  },
  {
   "cell_type": "code",
   "execution_count": 60,
   "metadata": {},
   "outputs": [
    {
     "name": "stdout",
     "output_type": "stream",
     "text": [
      "강의의 수 :  42738\n",
      "리뷰있는 강의수 :  3541\n",
      "리뷰의 수 :  28326\n"
     ]
    }
   ],
   "source": [
    "print('강의의 수 : ', len(lecture))\n",
    "print('리뷰있는 강의수 : ',len(lecture.query('score != 0')['link'].unique()))\n",
    "print('리뷰의 수 : ', len(review))"
   ]
  },
  {
   "cell_type": "code",
   "execution_count": 14,
   "metadata": {},
   "outputs": [],
   "source": [
    "from konlpy.tag import Twitter\n",
    "okt = Okt()\n",
    "\n",
    "def okt_tokenizer(x):\n",
    "    return okt.morphs(x)"
   ]
  },
  {
   "cell_type": "code",
   "execution_count": 18,
   "metadata": {
    "scrolled": true
   },
   "outputs": [],
   "source": [
    "data = review.groupby(['name','prof'])['review'].agg(lambda x : ' '.join(x)).reset_index()"
   ]
  },
  {
   "cell_type": "code",
   "execution_count": 20,
   "metadata": {},
   "outputs": [],
   "source": [
    "data['token'] = data['review'].apply(okt_tokenizer)"
   ]
  },
  {
   "cell_type": "code",
   "execution_count": 27,
   "metadata": {},
   "outputs": [],
   "source": [
    "keys=[]\n",
    "for n,f in zip(data['name'],data['prof']):\n",
    "    keys.append('-'.join([n,f]))"
   ]
  },
  {
   "cell_type": "code",
   "execution_count": 30,
   "metadata": {},
   "outputs": [],
   "source": [
    "data['keys'] = keys"
   ]
  },
  {
   "cell_type": "code",
   "execution_count": 31,
   "metadata": {},
   "outputs": [
    {
     "name": "stdout",
     "output_type": "stream",
     "text": [
      "3525\n"
     ]
    }
   ],
   "source": [
    "from collections import namedtuple\n",
    "TaggedDocument = namedtuple('TaggedDocument', 'words tags')\n",
    "tagged_train_docs = [TaggedDocument(d,c) for d, c in data[['token', 'keys']].values]\n",
    "print(len(tagged_train_docs))"
   ]
  },
  {
   "cell_type": "code",
   "execution_count": 34,
   "metadata": {},
   "outputs": [],
   "source": [
    "doc_vectorizer = Doc2Vec(\n",
    "    dm=0,            # PV-DBOW / default 1\n",
    "    dbow_words=1,    # w2v simultaneous with DBOW d2v / default 0\n",
    "    window=8,        # distance between the predicted word and context words\n",
    "    size=100,        # vector size\n",
    "    alpha=0.025,     # learning-rate\n",
    "    seed=1234,\n",
    "    min_count=10,    # ignore with freq lower\n",
    "    min_alpha=0.025, # min learning-rate\n",
    "    workers=cores)   # multi cpu\n",
    "    #hs = 1,          # hierarchical softmax / default 0\n",
    "    #negative = 10,   # negative sampling / default 5)"
   ]
  },
  {
   "cell_type": "code",
   "execution_count": 35,
   "metadata": {},
   "outputs": [
    {
     "name": "stdout",
     "output_type": "stream",
     "text": [
      "Doc2Vec(dbow+w,d100,n5,w8,mc10,s0.001,t8)\n"
     ]
    },
    {
     "data": {
      "application/vnd.jupyter.widget-view+json": {
       "model_id": "ddd1f7c223c842749a462d0a48d52af7",
       "version_major": 2,
       "version_minor": 0
      },
      "text/plain": [
       "HBox(children=(IntProgress(value=0, max=10), HTML(value='')))"
      ]
     },
     "metadata": {},
     "output_type": "display_data"
    },
    {
     "name": "stderr",
     "output_type": "stream",
     "text": [
      "C:\\Users\\kcg99\\Anaconda3\\lib\\site-packages\\ipykernel_launcher.py:9: DeprecationWarning: Call to deprecated `iter` (Attribute will be removed in 4.0.0, use self.epochs instead).\n",
      "  if __name__ == '__main__':\n"
     ]
    },
    {
     "name": "stdout",
     "output_type": "stream",
     "text": [
      "\n",
      "start_time 1571213527.4398065\n",
      "--- 456.6279067993164 seconds ---\n"
     ]
    },
    {
     "ename": "ValueError",
     "evalue": "invalid literal for int() with base 10: '3D Digital Modeling-허도석'",
     "output_type": "error",
     "traceback": [
      "\u001b[1;31m---------------------------------------------------------------------------\u001b[0m",
      "\u001b[1;31mValueError\u001b[0m                                Traceback (most recent call last)",
      "\u001b[1;32m<ipython-input-35-186e5e8c6960>\u001b[0m in \u001b[0;36m<module>\u001b[1;34m\u001b[0m\n\u001b[0;32m     15\u001b[0m \u001b[1;33m\u001b[0m\u001b[0m\n\u001b[0;32m     16\u001b[0m \u001b[0mX\u001b[0m \u001b[1;33m=\u001b[0m \u001b[0mnp\u001b[0m\u001b[1;33m.\u001b[0m\u001b[0marray\u001b[0m\u001b[1;33m(\u001b[0m\u001b[1;33m[\u001b[0m\u001b[0mdoc_vectorizer\u001b[0m\u001b[1;33m.\u001b[0m\u001b[0minfer_vector\u001b[0m\u001b[1;33m(\u001b[0m\u001b[0mdoc\u001b[0m\u001b[1;33m.\u001b[0m\u001b[0mwords\u001b[0m\u001b[1;33m)\u001b[0m \u001b[1;32mfor\u001b[0m \u001b[0mdoc\u001b[0m \u001b[1;32min\u001b[0m \u001b[0mtagged_train_docs\u001b[0m\u001b[1;33m]\u001b[0m\u001b[1;33m)\u001b[0m\u001b[1;33m\u001b[0m\u001b[1;33m\u001b[0m\u001b[0m\n\u001b[1;32m---> 17\u001b[1;33m \u001b[0my\u001b[0m \u001b[1;33m=\u001b[0m \u001b[0mnp\u001b[0m\u001b[1;33m.\u001b[0m\u001b[0marray\u001b[0m\u001b[1;33m(\u001b[0m\u001b[1;33m[\u001b[0m\u001b[0mint\u001b[0m\u001b[1;33m(\u001b[0m\u001b[0mdoc\u001b[0m\u001b[1;33m.\u001b[0m\u001b[0mtags\u001b[0m\u001b[1;33m)\u001b[0m \u001b[1;32mfor\u001b[0m \u001b[0mdoc\u001b[0m \u001b[1;32min\u001b[0m \u001b[0mtagged_train_docs\u001b[0m\u001b[1;33m]\u001b[0m\u001b[1;33m)\u001b[0m\u001b[1;33m\u001b[0m\u001b[1;33m\u001b[0m\u001b[0m\n\u001b[0m",
      "\u001b[1;32m<ipython-input-35-186e5e8c6960>\u001b[0m in \u001b[0;36m<listcomp>\u001b[1;34m(.0)\u001b[0m\n\u001b[0;32m     15\u001b[0m \u001b[1;33m\u001b[0m\u001b[0m\n\u001b[0;32m     16\u001b[0m \u001b[0mX\u001b[0m \u001b[1;33m=\u001b[0m \u001b[0mnp\u001b[0m\u001b[1;33m.\u001b[0m\u001b[0marray\u001b[0m\u001b[1;33m(\u001b[0m\u001b[1;33m[\u001b[0m\u001b[0mdoc_vectorizer\u001b[0m\u001b[1;33m.\u001b[0m\u001b[0minfer_vector\u001b[0m\u001b[1;33m(\u001b[0m\u001b[0mdoc\u001b[0m\u001b[1;33m.\u001b[0m\u001b[0mwords\u001b[0m\u001b[1;33m)\u001b[0m \u001b[1;32mfor\u001b[0m \u001b[0mdoc\u001b[0m \u001b[1;32min\u001b[0m \u001b[0mtagged_train_docs\u001b[0m\u001b[1;33m]\u001b[0m\u001b[1;33m)\u001b[0m\u001b[1;33m\u001b[0m\u001b[1;33m\u001b[0m\u001b[0m\n\u001b[1;32m---> 17\u001b[1;33m \u001b[0my\u001b[0m \u001b[1;33m=\u001b[0m \u001b[0mnp\u001b[0m\u001b[1;33m.\u001b[0m\u001b[0marray\u001b[0m\u001b[1;33m(\u001b[0m\u001b[1;33m[\u001b[0m\u001b[0mint\u001b[0m\u001b[1;33m(\u001b[0m\u001b[0mdoc\u001b[0m\u001b[1;33m.\u001b[0m\u001b[0mtags\u001b[0m\u001b[1;33m)\u001b[0m \u001b[1;32mfor\u001b[0m \u001b[0mdoc\u001b[0m \u001b[1;32min\u001b[0m \u001b[0mtagged_train_docs\u001b[0m\u001b[1;33m]\u001b[0m\u001b[1;33m)\u001b[0m\u001b[1;33m\u001b[0m\u001b[1;33m\u001b[0m\u001b[0m\n\u001b[0m",
      "\u001b[1;31mValueError\u001b[0m: invalid literal for int() with base 10: '3D Digital Modeling-허도석'"
     ]
    }
   ],
   "source": [
    "doc_vectorizer.build_vocab(tagged_train_docs)\n",
    "print(str(doc_vectorizer))\n",
    "\n",
    "import time\n",
    "from tqdm import tnrange\n",
    "start_time = time.time()\n",
    "\n",
    "for epoch in tnrange(10):\n",
    "    doc_vectorizer.train(tagged_train_docs, total_examples=doc_vectorizer.corpus_count, epochs=doc_vectorizer.iter)\n",
    "    doc_vectorizer.alpha -= 0.002 # decrease the learning rate\n",
    "    doc_vectorizer.min_alpha = doc_vectorizer.alpha # fix the learning rate, no decay\n",
    "\n",
    "print(\"start_time\", start_time) \n",
    "print(\"--- %s seconds ---\" %(time.time() - start_time))\n",
    "\n",
    "X = np.array([doc_vectorizer.infer_vector(doc.words) for doc in tagged_train_docs])\n",
    "y = np.array([doc.tags for doc in tagged_train_docs])"
   ]
  },
  {
   "cell_type": "code",
   "execution_count": 65,
   "metadata": {},
   "outputs": [
    {
     "data": {
      "text/html": [
       "<div>\n",
       "<style scoped>\n",
       "    .dataframe tbody tr th:only-of-type {\n",
       "        vertical-align: middle;\n",
       "    }\n",
       "\n",
       "    .dataframe tbody tr th {\n",
       "        vertical-align: top;\n",
       "    }\n",
       "\n",
       "    .dataframe thead th {\n",
       "        text-align: right;\n",
       "    }\n",
       "</style>\n",
       "<table border=\"1\" class=\"dataframe\">\n",
       "  <thead>\n",
       "    <tr style=\"text-align: right;\">\n",
       "      <th></th>\n",
       "      <th>name</th>\n",
       "      <th>prof</th>\n",
       "      <th>review</th>\n",
       "      <th>token</th>\n",
       "      <th>keys</th>\n",
       "    </tr>\n",
       "  </thead>\n",
       "  <tbody>\n",
       "    <tr>\n",
       "      <th>984</th>\n",
       "      <td>데이터마이닝</td>\n",
       "      <td>조윤호</td>\n",
       "      <td>빅데이터를 복수전공할 계획이 있는 사람들은 이 수업을 꼭 듣는 것을 추천합니다 ...</td>\n",
       "      <td>[빅데이터, 를, 복수, 전공, 할, 계획, 이, 있는, 사람, 들, 은, 이, 수...</td>\n",
       "      <td>데이터마이닝-조윤호</td>\n",
       "    </tr>\n",
       "    <tr>\n",
       "      <th>1431</th>\n",
       "      <td>분석프로그래밍I</td>\n",
       "      <td>조윤호</td>\n",
       "      <td>이 교수님이 왜 평이 좋은지 모르겠네  모르면 나 말고 구글한테 물어봐   그렇다고...</td>\n",
       "      <td>[이, 교수, 님, 이, 왜, 평이, 좋은지, 모르겠네, 모르면, 나, 말고, 구글...</td>\n",
       "      <td>분석프로그래밍I-조윤호</td>\n",
       "    </tr>\n",
       "    <tr>\n",
       "      <th>1432</th>\n",
       "      <td>분석프로그래밍II</td>\n",
       "      <td>조윤호</td>\n",
       "      <td>고난의 연속입니다   하지만 이만큼 배워가는 수업 또한 없다고 생각합니다  정말 노...</td>\n",
       "      <td>[고난, 의, 연속, 입니다, 하지만, 이, 만큼, 배워가는, 수업, 또한, 없다고...</td>\n",
       "      <td>분석프로그래밍II-조윤호</td>\n",
       "    </tr>\n",
       "  </tbody>\n",
       "</table>\n",
       "</div>"
      ],
      "text/plain": [
       "           name prof                                             review  \\\n",
       "984      데이터마이닝  조윤호    빅데이터를 복수전공할 계획이 있는 사람들은 이 수업을 꼭 듣는 것을 추천합니다 ...   \n",
       "1431   분석프로그래밍I  조윤호  이 교수님이 왜 평이 좋은지 모르겠네  모르면 나 말고 구글한테 물어봐   그렇다고...   \n",
       "1432  분석프로그래밍II  조윤호  고난의 연속입니다   하지만 이만큼 배워가는 수업 또한 없다고 생각합니다  정말 노...   \n",
       "\n",
       "                                                  token           keys  \n",
       "984   [빅데이터, 를, 복수, 전공, 할, 계획, 이, 있는, 사람, 들, 은, 이, 수...     데이터마이닝-조윤호  \n",
       "1431  [이, 교수, 님, 이, 왜, 평이, 좋은지, 모르겠네, 모르면, 나, 말고, 구글...   분석프로그래밍I-조윤호  \n",
       "1432  [고난, 의, 연속, 입니다, 하지만, 이, 만큼, 배워가는, 수업, 또한, 없다고...  분석프로그래밍II-조윤호  "
      ]
     },
     "execution_count": 65,
     "metadata": {},
     "output_type": "execute_result"
    }
   ],
   "source": [
    "data.query('prof == \"조윤호\"')"
   ]
  },
  {
   "cell_type": "code",
   "execution_count": 68,
   "metadata": {},
   "outputs": [],
   "source": [
    "def show(idx):\n",
    "    print(data.iloc[idx,]['name'])\n",
    "    print(data.iloc[idx,]['prof'])\n",
    "    print(data.iloc[idx,]['review'])"
   ]
  },
  {
   "cell_type": "code",
   "execution_count": 72,
   "metadata": {},
   "outputs": [
    {
     "name": "stdout",
     "output_type": "stream",
     "text": [
      "기업가정신과창업\n",
      "황보윤\n",
      "교수님은 친절하시고 괜찮은데 창업에 관심 없으면 수업 들어보려해도 귀에 전혀 안들어옴                  즉  기업가 정신에 대해서 배우는 수업입니다  이름만 들어보면 창업을 준비하는 경영대 학생들에게만 의미있어 보입니다  사실 비즈니스 모델을 수립해보며 자신의 전공 분야에 대한 비젼도 생각하고 이에 따라 이타적으로 미래를 계획해나갈 수 있는 의미를 갖고 있기도 합니다  아이디어 발표를 통해 직접 팀을 구성하여 사업 계획서를 구체화 해보고 외부 교수를 초빙하여 수행하는 아이디어톤을 통해 전문가의 시선으로 평가받아볼 수 있는 자리 또한 존재합니다  아이디어가 기획되는 프로세스를 배우고 실현시켜보면서 우리 주변에 보이는 사물과 서비스가 기획되고 생산되는 절차 모델도 배울 수 있습니다  이 기회를 잘 활용할 준비가 되었다면 실용적 측면에서 알맹이가 가득한 교양 강좌 중 하나라고 생각합니다 개귀찮음 뭔가 창업에 관심이 많고 아이디어좋으면 할만할듯 배워가는 것은 많다   하지만 힘들다  진정 자신이 창업에 뜻이 있으면 신청하길 바란다  조모임 매우매우매우매우많음 조활동 빡세게해봤자 시험못보면 소용없음\n",
      "\n",
      "------------------------------\n",
      "탐색적데이터분석\n",
      "정여진\n",
      " 로 데이터 시각화 배움  매주 과제가 있긴 한데 항상 수업 뒤에 한시간은 과제할 시간으로 주시기 때문에 과제로 크게 고생 하진 않고  프로젝트가 학점에 큰 영향 끼치는듯 시험문제는 쉽고 오픈북인데 팀플 점수폭이 너무 넓어서 그냥 팀플로 갈리는 강의 힘들었음 데이터 분석 실무 이전에  시각화를 통해 데이터를 탐색하는 것을 배웁니다  시험이나 과제에 피드백이 부족한 경향이 있지만 개인적으로 질문하면 다 받아주십니다   의 시각화를 전반적으로 훑는 강의  과제나 시험에 대한 피드백이 있었으면 좋았을듯 교수님 정말 좋습니다   학점 채워주시구요  실습수업이지만 이전에 수업을 듣고 들었다면 무리 없습니다 \n",
      "\n",
      "------------------------------\n",
      "청소년교육론\n",
      "이수진\n",
      "팀플 프로젝트     기말 논술형          일단 다른 과목을 들을 기회가 있다면 주저 말고 떠나시길 의욕과 열정 과다로 지나치게 많은 것을 요구하셨고  그 결과는 참혹했다   개인 보고서  회  커맵 활동 및 보고서 팀별   회  한 학기 내내 징글징글하게 끝나지 않는 프로젝트 학기 초부터 계획  중간보고서  최종 발표 및 최종 보고서 제출까지   토 나오는 약     장 분량 기말고사   딱히 강의실에 앉아서 배운 것은 없는데 기말 문제는   조금 배운 것을 뻥튀기해서 실생활과 연결해야 하는 수준  많은 활동을 좋아하고  공부하느니 팀플과 실전으로 커버치고 싶다 하는 분은 추천  정말 다양한 걸 하게 된다   그리고 학생들 프로젝트도 다들 강의안 수준까지 나올 정도로 구체적이고 창의적이었음  남들이 얼마나 똑똑한지 알 수 있게 된다 \n",
      "\n",
      "------------------------------\n"
     ]
    }
   ],
   "source": [
    "from sklearn.metrics.pairwise import cosine_similarity\n",
    "from scipy import sparse\n",
    "\n",
    "A_sparse = sparse.csr_matrix(X)\n",
    "similarities = cosine_similarity(A_sparse)\n",
    "\n",
    "idx_list = np.argsort(similarities[984,:])[::-1][1:4]\n",
    "for sim_idx in idx_list:\n",
    "    show(sim_idx)\n",
    "    print('')\n",
    "    print('-'*30)"
   ]
  },
  {
   "cell_type": "code",
   "execution_count": 74,
   "metadata": {},
   "outputs": [
    {
     "name": "stdout",
     "output_type": "stream",
     "text": [
      "분석프로그래밍II\n",
      "조윤호\n",
      "고난의 연속입니다   하지만 이만큼 배워가는 수업 또한 없다고 생각합니다  정말 노력하는 만큼 정직하게 알게 되는 수업입니다  교수님의 강의력과 수업은 정말 재미있고 유익하고 최고입니다  내용자체는 괜찮은 듯 하나 역시나 막상 코딩은 어렵   많이 배울 수 있는 수업입니다  상당히 수업을 잘하심 그러나 속도가 아웃사이더 급이어서 나의 두뇌도 아웃사이더가 되어버림  남는게 많을 것 같음 그러나 내 시험지를 보는 교수님에게 죄송해짐 판다스  넘파이 등 파이썬 라이브러리를 통한 데이터 전처리와 시각화를 배우는 수업  중간이나 기말이나 과제나 하는 만큼 결과를 얻을 수 있을겁니다  옛날엔 점수 낮으면 그냥 에프 때리셨는데 요즘도 그러시나 모르겠네요  파이썬의판다스패키지를배워가는강의입니다 열의도넘치시고재밋지만 과제시험이너무괴리감이큽니다\n",
      "\n",
      "------------------------------\n",
      "탐색적데이터분석\n",
      "정여진\n",
      " 로 데이터 시각화 배움  매주 과제가 있긴 한데 항상 수업 뒤에 한시간은 과제할 시간으로 주시기 때문에 과제로 크게 고생 하진 않고  프로젝트가 학점에 큰 영향 끼치는듯 시험문제는 쉽고 오픈북인데 팀플 점수폭이 너무 넓어서 그냥 팀플로 갈리는 강의 힘들었음 데이터 분석 실무 이전에  시각화를 통해 데이터를 탐색하는 것을 배웁니다  시험이나 과제에 피드백이 부족한 경향이 있지만 개인적으로 질문하면 다 받아주십니다   의 시각화를 전반적으로 훑는 강의  과제나 시험에 대한 피드백이 있었으면 좋았을듯 교수님 정말 좋습니다   학점 채워주시구요  실습수업이지만 이전에 수업을 듣고 들었다면 무리 없습니다 \n",
      "\n",
      "------------------------------\n",
      "공학응용프로그래밍\n",
      "이상헌\n",
      "교수님이 되게 열심히 알려주시려고 노력함  기말고사 범위부터 어려워서 수업을되게 따라가기어려움 학점은 잘 채워주심 한챕터를 한주에 다 나가는정도 로 진도 빠르고 중간고사까지는 많이 안어려운데 기말고사 범위가 어려워 시간투자를 좀 해야한다 시험 점수확인은 따로 없고 교수님께 문의하면 알 수 있다 괜찮다  자동차   특성상 파이썬을 먼저 배우고 오는데 파이썬을 완벽하게 배우고 온 줄 알고 계셔서 진도가 상당히 빠르다\n",
      "\n",
      "------------------------------\n"
     ]
    }
   ],
   "source": [
    "idx_list = np.argsort(similarities[1431,:])[::-1][1:4]\n",
    "for sim_idx in idx_list:\n",
    "    show(sim_idx)\n",
    "    print('')\n",
    "    print('-'*30)"
   ]
  },
  {
   "cell_type": "code",
   "execution_count": 79,
   "metadata": {},
   "outputs": [
    {
     "data": {
      "text/html": [
       "<div>\n",
       "<style scoped>\n",
       "    .dataframe tbody tr th:only-of-type {\n",
       "        vertical-align: middle;\n",
       "    }\n",
       "\n",
       "    .dataframe tbody tr th {\n",
       "        vertical-align: top;\n",
       "    }\n",
       "\n",
       "    .dataframe thead th {\n",
       "        text-align: right;\n",
       "    }\n",
       "</style>\n",
       "<table border=\"1\" class=\"dataframe\">\n",
       "  <thead>\n",
       "    <tr style=\"text-align: right;\">\n",
       "      <th></th>\n",
       "      <th>name</th>\n",
       "      <th>prof</th>\n",
       "      <th>review</th>\n",
       "      <th>token</th>\n",
       "      <th>keys</th>\n",
       "    </tr>\n",
       "  </thead>\n",
       "  <tbody>\n",
       "    <tr>\n",
       "      <th>1214</th>\n",
       "      <td>문명과세계화의도전</td>\n",
       "      <td>안현상</td>\n",
       "      <td>교수님 강의스타일도 지루하지 않고 재밌습니다  시험은 외우는 거 잘하시는 분 추천드...</td>\n",
       "      <td>[교수, 님, 강의, 스타일, 도, 지루하지, 않고, 재밌습니다, 시험, 은, 외우...</td>\n",
       "      <td>문명과세계화의도전-안현상</td>\n",
       "    </tr>\n",
       "    <tr>\n",
       "      <th>1231</th>\n",
       "      <td>문화와정치행태</td>\n",
       "      <td>안현상</td>\n",
       "      <td>이런게 대학수업  엄청나게 배워감  대단하신분    중간기말 레포트임  학점 안나와...</td>\n",
       "      <td>[이런게, 대학, 수업, 엄청나게, 배워, 감, 대단하, 신분, 중간, 기, 말, ...</td>\n",
       "      <td>문화와정치행태-안현상</td>\n",
       "    </tr>\n",
       "    <tr>\n",
       "      <th>1807</th>\n",
       "      <td>세계화와다문화주의</td>\n",
       "      <td>안현상</td>\n",
       "      <td>좋은 수업입니다   추천해요 부담도 없고 주제에 대해서 열심히 생각만 해도 성적이 ...</td>\n",
       "      <td>[좋은, 수업, 입니다, 추천, 해요, 부담, 도, 없고, 주제, 에, 대해, 서,...</td>\n",
       "      <td>세계화와다문화주의-안현상</td>\n",
       "    </tr>\n",
       "    <tr>\n",
       "      <th>1952</th>\n",
       "      <td>시민사회와정치</td>\n",
       "      <td>안현상</td>\n",
       "      <td>교수님 너무 좋으셨어요  수업내용은 특성상 조금 추상적이라 어렵기도 했지만 도움되는...</td>\n",
       "      <td>[교수, 님, 너무, 좋으셨어요, 수업, 내용, 은, 특성, 상, 조금, 추상, 적...</td>\n",
       "      <td>시민사회와정치-안현상</td>\n",
       "    </tr>\n",
       "    <tr>\n",
       "      <th>2808</th>\n",
       "      <td>정치학연구방법론</td>\n",
       "      <td>안현상</td>\n",
       "      <td>갓    더는 표현 못합니다  중간 기말 레포트 대체이고 수업방식은 주로 조별 토론...</td>\n",
       "      <td>[갓, 더, 는, 표현, 못, 합니다, 중간, 기, 말, 레포트, 대체, 이고, 수...</td>\n",
       "      <td>정치학연구방법론-안현상</td>\n",
       "    </tr>\n",
       "  </tbody>\n",
       "</table>\n",
       "</div>"
      ],
      "text/plain": [
       "           name prof                                             review  \\\n",
       "1214  문명과세계화의도전  안현상  교수님 강의스타일도 지루하지 않고 재밌습니다  시험은 외우는 거 잘하시는 분 추천드...   \n",
       "1231    문화와정치행태  안현상  이런게 대학수업  엄청나게 배워감  대단하신분    중간기말 레포트임  학점 안나와...   \n",
       "1807  세계화와다문화주의  안현상  좋은 수업입니다   추천해요 부담도 없고 주제에 대해서 열심히 생각만 해도 성적이 ...   \n",
       "1952    시민사회와정치  안현상  교수님 너무 좋으셨어요  수업내용은 특성상 조금 추상적이라 어렵기도 했지만 도움되는...   \n",
       "2808   정치학연구방법론  안현상  갓    더는 표현 못합니다  중간 기말 레포트 대체이고 수업방식은 주로 조별 토론...   \n",
       "\n",
       "                                                  token           keys  \n",
       "1214  [교수, 님, 강의, 스타일, 도, 지루하지, 않고, 재밌습니다, 시험, 은, 외우...  문명과세계화의도전-안현상  \n",
       "1231  [이런게, 대학, 수업, 엄청나게, 배워, 감, 대단하, 신분, 중간, 기, 말, ...    문화와정치행태-안현상  \n",
       "1807  [좋은, 수업, 입니다, 추천, 해요, 부담, 도, 없고, 주제, 에, 대해, 서,...  세계화와다문화주의-안현상  \n",
       "1952  [교수, 님, 너무, 좋으셨어요, 수업, 내용, 은, 특성, 상, 조금, 추상, 적...    시민사회와정치-안현상  \n",
       "2808  [갓, 더, 는, 표현, 못, 합니다, 중간, 기, 말, 레포트, 대체, 이고, 수...   정치학연구방법론-안현상  "
      ]
     },
     "execution_count": 79,
     "metadata": {},
     "output_type": "execute_result"
    }
   ],
   "source": [
    "data.query('prof == \"안현상\"')"
   ]
  },
  {
   "cell_type": "code",
   "execution_count": 80,
   "metadata": {},
   "outputs": [
    {
     "name": "stdout",
     "output_type": "stream",
     "text": [
      "문명과세계화의도전\n",
      "안드레이 란코프\n",
      "피피티 달달 외워서 답 다쓰고 출석 다 채웠는데 왜   인지 이해 안 감 원어강의인데 살다온사람이 많아서 토종 한국인은 공부하기 힘듭니다  발음을 도저히 알아들을수가 없었어요  장담하건데 국민대 최고의 꿀강의  미국에서 쫌 살다왔거나 영어 잘하는 사람은 꼭 수강하시길  수업은 잘 들으면 얻어가는게 많은데 대부분 한국학생들은 안듣고 다른수업 과제하고 폰만지거나 자고있음   일정도 공부하고 영작잘하니까   받음 추천   항상   분정도 늦게 들어오심 출석 잘 안 부름 팀플  과제 없음 시험 기말 한번 편한건 맞는데 얻어가는건 없는 수업    교수님 수업이 공통적으로 성적입력도 가장 늦고 기간 지나서 보류까지 받고 겨우 성적 입력 하심 특히 이번 기말에서는 시험지 검토를 한번도 안하셨는지 시험지에 단답형 문제 답이 적혀있었는데 그냥 나눠줬다가 학생이 말해줘서 알고 당일날 시험지 다시 뽑아 주셨음    핵교만 아니었어도 안 듣는건데 수업 열심히 들었는데 제가 워낙 세계사에 무지해서 비쁠 나왔네요              워드로 정리도 했는데   꿀강인건 맞는데 그냥 그랬음  교수님 수업도 거의 항상 늦게 오시고 배워가는건 많은데 그냥 그런 강의임 교수님이 정말 똑똑하신 분이라는 게 느껴지는 교수님 중 한분  외국인 교수님이시지만 한국어나 한자수준이 너무 뛰어나심  기말도 한번만 보기때문에 열심히 이해하고 외우면 문제 없음   중간시험 과제 팀플 없음 교수님 출장으로 휴강 가끔 있음 기말시험만 보는데 시험 문제도 찝어줌 찝어준 문제 답만    에서 찾아서 외워서 적으면 점수 잘 주심 하루 전에 공부해서   받을 정도는 아님 일주일은 달달 외워야 함  영어쓰시다 애들이 못 알아들으면 유창한 한국어로 설명해주시기도 함  한국어 한국인 수준으로 잘하심  출석도 가끔 부르셔서 가끔 빠져도 됨  완전 꿀강 꼭 들어야 함  하루 전에 공부해도 에이플 나옴 기말시험만 있음  중간  과제  팀플    외국인 학생 유학생 영어 잘하는 한국인 다수 존재  원어강의의 경우    프로 영어로 수업하시고 중간중간 중요한 부분 학생들이 못알아듣는거 같으면 세네마디 정도 한국어로 설명해주시기도 함     분  발음이 평소접한 미국식 영어 아니어서 익숙치 않은 분은 바로 해석이 조금 힘들수도 있으나 피피티에 기반해서 수업하셔서 크게 무리는 없음  출석은   번 중  번 정도 부르심  시 수업경우 교수님이 지각을 조금 자주 하셔서 조교님이 대신 들어오셔서 출석 부르실때도 가끔 있음  기말시험문제는 블로그에   문제 정도 미리 올려주심     문제 정도만 바뀌고 매년 똑같음     그   문제중 시험엔  개 랜덤으로 나옴 또 그 중에서 원하는거  개 선택해서 답 쓰면됨 하루만 공부해도 최소 비쁠 가능 주관적 생각   시험점수와 상관없는 분이시라면 매우 유익한 수업  교수님도 좋으심    발음을 에로 하시니까 그거 감안하면 처음에 당황하는걸 줄일 수 있음 예를들면      을  에바웃  이라고 하시거나      를  케리아  라고 하니 당황하지 않기  블로그만 보고 공부하면 앵간하지만 책읽어야되는게 함정  안읽었다가 그냥 평균 나온듯 수업을 안들어도 학점 딸 수 있다고 유명한 탓에 교수님께 죄송할 정도로 수업 듣는 사람이 적다    하지만 나도 기말 전 이틀동안 블로그 글 계속 읽고 쓴걸로 비쁠 받았다    교수님 정말 학점 하나는 잘 주시는 듯 꿀강은 인정  기말이   프로라서 딱히 하는게 없다보니 좋은데 기말에서 개쫄린다는게 단점  그래도 피피티만 공부하면 이정도는 꿀강 오브 꿀강이지 과제두 없고 팀플없고 중간 도 없고    기말 하나뿐인 꿀교양   기말이    이긴 하지만 블로그보고 미리 준비해가면 점수 잘 받을수있어여 다들 갓코프와 함께하세요     수업이 약간 지루할 수 있어요 교수님은 열정적이신 것 같아요 시험 이틀 전에 블로그에 요약한 거 훑어봤는데 비플 나왔어요   러시아에서 오셔서 발음이 약간 서투르세요 그래도 친절하시고 좋았어요 외국인 교수가 한국어 강의하는거라서 발음 해독하기 어렵다 했는데 비정상회담에 나오는 외국인정도로 생각하면 안돼요  진짜 해독을 해야할 정도입니다  저 처음에 듣고 좀 많이 깜짝 놀랐네요  수업 끝나고 출석부르고 휴강 꽤 있고 중간없고 과제없지만 수업해독이 무지막지하게 저한태는 어려웠어요  그래도 교수님은 좋아요  가르치시려는 열정이 있어요  첫 교양이었는데 나름   만족해요      이 수업 들으시려는 분들 화이팅  좋지만 공결서를 안받아 주신다          갓드갓갓 란갓갓 수업이 너무 꿀이라 당뇨 얻어감 그동안 지옥같은 교양 지뢰밭에 뒹굴다가 수강신청 신들려서 란코프라는 보석을 발견하고 더 이상은 울지 않아 갓드레이 갓코프 멀이 필요없다 그냥 들어라 아아앙앙 재밌었음 상당히 꿀강의 중간없고 기말   이라 좀 쫄리긴 함 교수님 발음 알아듣기가 힘들긴 한데 그래도 재밌음 앞에앉으면 교수님이 헷갈리는 단어 물어보시니 내성적이다 하시면 뒷쪽에 앉는거 추천     에 나오는 사람 보니까 신기함 연예인 보는기분 체고당 겨수넴 교수님 발음이 조금 알아듣기 쉽지 않지만 수업을 안들어도 시험은 볼 수 있음   교수님 너무 착하시고 귀여우심  시험은 되도록 많이 쓰는게 좋음  팀플 없고 과제 없는 완전 꿀교양    개인적으로 느므 꿀강의였던 것 교수님 발음이 어려워서 하나하나 해독해야하는 역경이 있지만 그것만 극복하시면 학점은 잘 나옵니댱 정말 공부한만큼 정직하게 성적이 나오고요 교수님이 매우 좋습니다 진짜 공부한만큼 답안지에 쓴만큼 성적 나오는 과목인 것 같아요  본인 하기 나름 솔직히 공부한만큼 성적이 나오는 교양이라 좋았습니다 블로그에 자료올려주시지만 수업시간에 열심히 필기한만큼 시험공부할때 편하고 유용합니다 출석은 정말 가아아끔 부르시는데 출석부르기직전에 들어오시는 분들이 얌체출첵하는거는 둘째치고 늦게오시면서 문을 시끄럽게 닫으셔서 수업에 방해됩니다 이부분이 살짝짜증났지만 교수님이 워낙좋으셔서 다른 수업도 듣고싶습니다 원어강의였는데 정말 좋았어욯 교수님 수업도 귀엽게 하시구요  외국인교수님이라 그런지 크게 뭐       한 건 없는 것 같았어요 출석은 끝날 때 부르셔서 늦게 참석하는 사람들도 있었는데 뭐  같은 학비 내고 좀 안타깝더라구요 시험은 기말 한 번만 보는데   문제 예제에서  문제 나오고 그중  문제 답하는 거였어요 내용은 거의 세계사와 정치랑 비슷하다고 보면 돼요 여건이 된다면 또 듣고 싶어요 공부 내용은 좀 많지만 과제 없고 시험도 한 번이라 좋았어요  교수님이 착하시긴 한데 너무 착하셔서 상습적으로 수업 시작한 지      분 지나서 오는 얌체들도 출석 부르기 전에만 오면 다 출석 인정해 주시고  출석 안 부르시는 날도 은근 많아서 성실히 나오는 학생들은 뭔가 불공평하다는 기분이 들 수도 있을 것 같아요  란코프 교수님 수업은 두 번째입니다  저번에 들은것은  문제 모두 잘써서 에이쁠받았고  이 수업은  문제는 잘쓰고  문제는 준비를 안한 것이라 수업들은 내용 떠올리며 썼습니다  그래도 비쁠주셨네요  확실히 한 만큼 나오는 수업같아요  블로그와 녹음들으며 공부했습니다  정말 다 좋고 큰부담 없는 수업인데  중간에 출튀  쉬는시간에 교수님 나가신사이 출석부 우르르가서 몰래 체크하는애들  출석부르는 시간에만 오는 얌체들이 리얼 짜증나긴함  넘 착하시고 배우는것도 많고 재밌는데 수업끝날때쯤 들어오는 얌체들 때문에 짜증남 교수님 너무 좋으시고 착하십니다  수업내용을 매번 직접 녹음해서 가상대학에 올려주십니다   그리고 블로그에 올린 내용 키워드 위주로 암기해서 시험지 꽉 채워서 썼고    받았습니다  솔직히 수업시간에 집중 안했지만 시험 이틀전에 벼락치기 했는데 점수 너무 잘 주셔서 감사했습니다    과제 팀플 하나도 없고 꿀 교양이에요   교수님이 출석을 마지막에 부르셔서 수업 종료   분전   분전에 들어오는 얌체들도 많아요  국대전에도 언급된 적이 있는 것 같은데 고쳐지지도 않고요  시험은 중간고사는 없고 기말은 교수님이 블로그에 올린     문제중  문제를 서술하고 나머지 한 문제는 교수님이 정해주신 책을 읽고 서술하는 거예요  국대전에 보면 안좋은 평이 많은데 전 교수님 블로그 내용 필기로 시험지  장 썼더니 에이쁠 나왔어요  천사임 멘탈과 여유로움은 보살님 급이시고 한국어가 어눌하다고 잘 못알아들을까봐 굉장히 신경쓰시고 녹음파일까지 올려주시니 준비되었으면 공부만 열심히 하십쇼  학점은 잘나옵니다  시험 하루전에 녹음파일듣고 죽을듯이 하면 진짜 잘나옵니다  저는 에이제로 나왔네여  일단 출석을 강의 마지막에 부르셔서 아주 마음이 편한 수업이었다  초반에는 그래도 일찍들어가고 그랬는데 마지막에는 늘어져서   분 지각도 하고 그랬다  수업은 막상 들으면 재미있는데 교수님이 러시아분이라서 그런지 발음때문에 집중이 되는 날이 별로 없다  그래서 거의 졸았다  시험은 예상문제를   문제 정도 알려주시는데 기말때 거기서  문제가 나오면 또 우리가  문제를 골라서 쓰면 되는 방식이다  공부를 거의 안하고 한문제만 빽빽히 쓰고 나머지 두문제는 대충 쓰고나왔는데도 비쁠을 주셨다  나는 좋았던 수업 란코프 교수님은 정말 착하십니다 대천사 미카엘      출결은 끝날때만 불러서 수업종료   분전에 오시는 얌체 분들이 참 많았던   시험은 기말고사때 논술형으로 봤는데 약간 중상위 난이도  그치만 좀 신경써서 준비하면 충분히 채울수있는 암기 가능 시험  란코프 교수님이 러시아 분이시라 발음이 조금 듣기 어려울 수 있지만 교수님께서 가상대학에 녹음본 매주 올려주십니다 네이버에 란코프 치시고 란코프 교수님 뉴스인터뷰 영상 보시면서 이정도 발음이면 들을만 하겠다 하시는 분은 들으시면 좋을듯 저는 개인적으로 수업은 매일 졸았던   발음 때문에 하나도 귀에 안들어와서   \n",
      "\n",
      "------------------------------\n",
      "문명과세계화의도전\n",
      "조정원\n",
      "아주 열정적으로 강의해주시는 교수님이에요  학점도 잘 주시는 편이고요 완전 추천합니다   교수님 진짜 좋으세요     출튀하는 사람들이 많아서 아쉬울뿐  토론도 그냥 편하게 하기좋고 보고서 양은 많지만 한학기내내 배운내용에서만 쓰면되요  이번에    받은 사람입니다  가장 좋은건 수업내용이 부담이 없다는 거 하나와 중간고사 같은 경우는 피피티 한번 쭉 읽고 정리 한번만 하고 서술하시면 되며  중간에 있는 레포트 같은 경우는 열심히 어느정도만 작성해도 에이플 맞을 수 있다고 생각합니다  물론 저같은 경우는 출석도 다 참석했지만요     기말고사는 없습니다   교수님 엄청 열정적이시고 많이 가르쳐주시려고해요 그런데 사람들 대부분 수업잘안들어요  특히 중간고사이후는더    출튀하는사람많았어요 시험은 중간고사 번봐요 수업듣다보면 강조하시는부분과 핵심적인 주제가 시험문제로 나와요 다들 예상했던것이 문제로 나와서 외운만큼 썼어요    내용에서만 출제하세요  큰흐름을 파악하고 외우는게 도움이 됐어요 과제는영화소감문쓰에요  기말은소논문과제로대체하고 한학기   번 토론시간있는데 그냥 조원끼리 서로 의견나누는거고 참여하면 돼요  수업내용은 재밌어요 본인이열심히한만큼 성적받는것같아요 이 수업 꿀강입니다 시간대가 좋아서 공강을 두개나 득템했어요    내용이 흥미롭고 교수님께서 열정이 가득하십니다 출결은 시간이 오후라서 지각할 염려는 거의 없구요  간간히 토론이랑 과제 있는데 한 두번 했나  쨋든 거의 없습니다  중간고사는    에서 나오고 기말고사는 대체 보고서 입니다  사람들도 열심히 안해서 학점따기에는 굉장히 좋은 강의라고 생각합니다 괜찮은 강의   교수님 좋으심  근데  시간 연강수업이다보니 출튀율이 높음  근데 알면서도 넘어가시는 것 같음  중간은 피피티 기말은 대체 보고서 괜춘 강의 내용의 양이 많아서 그 모든 내용을 머리에 집어넣긴 힘들지만 교수님이 열심히 설명해주시려 했고 많이 준비해오심  토론도 가끔하는데 크게 어렵진 않음  이해하기 쉽고 재미있음  토론은 귀찮지만 나름 의미있고  시험도 프린트 그대로 암기라 어렵진 않음  점수 받기 쉬움 \n",
      "\n",
      "------------------------------\n",
      "조세법각론\n",
      "손영철\n",
      "교수님께서 최대한 학생들 편의 봐주려고 하는게 눈에 보인다  조세법 자체가 쫌 지루해서 수업이 재미있지는 않았지만 시험 준비하는 것도 그리 어렵지 않고 무냐무난하게 잘 들은 강의  어디서 시험 나올지 다 찝어주시고 점수도 최대한 잘 주려고 하시는 편  책에 있는 내용이랑 나눠주신 프린트 그대로 외워서 적으면 적어도 비쁠은 나오는 과목 너무 착하신 교수님   최고입니다    모든 편의를 봐주시고 학생들입장을 생각해주세요   짱 굉장히 유쾌하시고요 세법 공부한 사람으로서 봤을 때 정말 핵심적인 내용만 수업하세요  한학기에 소득세  법인세  상증세  부가가치세를 다 다룬게 놀랍네요   시험 전 시간에 예상문제 다 불러주시니 평소에 공부안해도 그거만 정리해서 달달 외우면 에이플 가능합니다  출석은 맨마지막에 부르세요  사람좋은 어투를 소유하고 계신 분입니다  자신만의 세계가 있으십니다  처음에는 부교재를 너무 강조하셔서 스트레스였지만 비싸고 구하기도 어렵    어차피 나중엔 논문 나눠주시고 거기서 내용찝어주셔서 좋음  중간이 지나고나면 교재위주라서 행복 의식의 흐름과 실무적으로 파고드시는게 강하지만 아니다싶으면 커트도 하시고 범위도 줄여주심  교수님 자체는 좋은 분이셔서  점\n",
      "\n",
      "------------------------------\n"
     ]
    }
   ],
   "source": [
    "idx_list = np.argsort(similarities[1214,:])[::-1][1:4]\n",
    "for sim_idx in idx_list:\n",
    "    show(sim_idx)\n",
    "    print('')\n",
    "    print('-'*30)"
   ]
  }
 ],
 "metadata": {
  "kernelspec": {
   "display_name": "Python 3",
   "language": "python",
   "name": "python3"
  },
  "language_info": {
   "codemirror_mode": {
    "name": "ipython",
    "version": 3
   },
   "file_extension": ".py",
   "mimetype": "text/x-python",
   "name": "python",
   "nbconvert_exporter": "python",
   "pygments_lexer": "ipython3",
   "version": "3.6.8"
  }
 },
 "nbformat": 4,
 "nbformat_minor": 2
}
